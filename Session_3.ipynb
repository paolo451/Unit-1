{
  "nbformat": 4,
  "nbformat_minor": 0,
  "metadata": {
    "colab": {
      "name": "Session_3.ipynb",
      "provenance": [],
      "authorship_tag": "ABX9TyOMzkvUjPY5HN4Np8EFib8/",
      "include_colab_link": true
    },
    "kernelspec": {
      "name": "python3",
      "display_name": "Python 3"
    },
    "language_info": {
      "name": "python"
    }
  },
  "cells": [
    {
      "cell_type": "markdown",
      "metadata": {
        "id": "view-in-github",
        "colab_type": "text"
      },
      "source": [
        "<a href=\"https://colab.research.google.com/github/paolo451/Unit-1/blob/main/Session_3.ipynb\" target=\"_parent\"><img src=\"https://colab.research.google.com/assets/colab-badge.svg\" alt=\"Open In Colab\"/></a>"
      ]
    },
    {
      "cell_type": "markdown",
      "metadata": {
        "id": "11E7Aop3-8u5"
      },
      "source": [
        "## First method"
      ]
    },
    {
      "cell_type": "code",
      "metadata": {
        "colab": {
          "base_uri": "https://localhost:8080/"
        },
        "id": "nve3LzDt-ls0",
        "outputId": "e4f32889-e30c-4921-d197-6f9f8cf3737c"
      },
      "source": [
        "n = int(input(\"Input the number you wish to examine: \"))\n",
        "for x in range(1, (n+1), 2):\n",
        "  print(x)"
      ],
      "execution_count": 1,
      "outputs": [
        {
          "output_type": "stream",
          "name": "stdout",
          "text": [
            "Input the number you wish to examine: 7\n",
            "1\n",
            "3\n",
            "5\n",
            "7\n"
          ]
        }
      ]
    },
    {
      "cell_type": "markdown",
      "metadata": {
        "id": "k7Q-P-TZjUWB"
      },
      "source": [
        "## Second method"
      ]
    },
    {
      "cell_type": "code",
      "metadata": {
        "colab": {
          "base_uri": "https://localhost:8080/"
        },
        "id": "0W3nsB37jXhW",
        "outputId": "150b04f5-7c69-4480-8a0e-79ced6718d8d"
      },
      "source": [
        "n = int(input(\"Input the number you wish to examine: \"))\n",
        "y = 1 \n",
        "for x in range(int((n+1)/2)):\n",
        "  print(y)\n",
        "  y += 2"
      ],
      "execution_count": 2,
      "outputs": [
        {
          "output_type": "stream",
          "name": "stdout",
          "text": [
            "Input the number you wish to examine: 9\n",
            "1\n",
            "3\n",
            "5\n",
            "7\n",
            "9\n"
          ]
        }
      ]
    },
    {
      "cell_type": "markdown",
      "metadata": {
        "id": "vEYuLxEnk-GH"
      },
      "source": [
        "## Third method"
      ]
    },
    {
      "cell_type": "code",
      "metadata": {
        "colab": {
          "base_uri": "https://localhost:8080/"
        },
        "id": "UeW1bfGjlD_W",
        "outputId": "2a8b74e0-9ccd-4ac7-f245-db9834b589da"
      },
      "source": [
        "n = int(input(\"Input the number you wish to examine: \"))\n",
        "for x in range(n + 1):\n",
        "  if x % 2 != 0: \n",
        "    print(x)"
      ],
      "execution_count": 3,
      "outputs": [
        {
          "output_type": "stream",
          "name": "stdout",
          "text": [
            "Input the number you wish to examine: 15\n",
            "1\n",
            "3\n",
            "5\n",
            "7\n",
            "9\n",
            "11\n",
            "13\n",
            "15\n"
          ]
        }
      ]
    },
    {
      "cell_type": "markdown",
      "metadata": {
        "id": "skmrI1ex_0iO"
      },
      "source": [
        "### IB Grades Exercise\n"
      ]
    },
    {
      "cell_type": "code",
      "metadata": {
        "colab": {
          "base_uri": "https://localhost:8080/"
        },
        "id": "sC2tkl4c_4ZX",
        "outputId": "736d72af-d766-4a81-fead-c8eb5b0f6053"
      },
      "source": [
        "scores = [2, 3, 1, 0, 5, 3, 4, 2]\n",
        "passes = 0\n",
        "sum = 0\n",
        "q_scores = len(scores)\n",
        "\n",
        "for index in range(q_scores):\n",
        "  print(f\"index #{index}, score {scores[index]}, partial sum {sum}\")\n",
        "  sum += scores[index]\n",
        "  if scores[index] > 3:\n",
        "    passes += 1\n",
        "\n",
        "print(f\"The number of passing grades is {passes}\")\n",
        "print(f\"average score is {sum/q_scores}\")"
      ],
      "execution_count": 4,
      "outputs": [
        {
          "output_type": "stream",
          "name": "stdout",
          "text": [
            "index #0, score 2, partial sum 0\n",
            "index #1, score 3, partial sum 2\n",
            "index #2, score 1, partial sum 5\n",
            "index #3, score 0, partial sum 6\n",
            "index #4, score 5, partial sum 6\n",
            "index #5, score 3, partial sum 11\n",
            "index #6, score 4, partial sum 14\n",
            "index #7, score 2, partial sum 18\n",
            "The number of passing grades is 2\n",
            "average score is 2.5\n"
          ]
        }
      ]
    }
  ]
}