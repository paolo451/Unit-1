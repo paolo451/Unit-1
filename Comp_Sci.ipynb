{
  "nbformat": 4,
  "nbformat_minor": 0,
  "metadata": {
    "colab": {
      "name": "Comp Sci.ipynb",
      "provenance": [],
      "authorship_tag": "ABX9TyPnF2O1iEi7p3lJEidiWtOU",
      "include_colab_link": true
    },
    "kernelspec": {
      "name": "python3",
      "display_name": "Python 3"
    },
    "language_info": {
      "name": "python"
    }
  },
  "cells": [
    {
      "cell_type": "markdown",
      "metadata": {
        "id": "view-in-github",
        "colab_type": "text"
      },
      "source": [
        "<a href=\"https://colab.research.google.com/github/paolo451/Unit-1/blob/main/Comp_Sci.ipynb\" target=\"_parent\"><img src=\"https://colab.research.google.com/assets/colab-badge.svg\" alt=\"Open In Colab\"/></a>"
      ]
    },
    {
      "cell_type": "markdown",
      "metadata": {
        "id": "voCwTzOCGC6q"
      },
      "source": [
        "#Programming Practice #01\n",
        "##### Calculate adition of all integers up to n using the arithmetic sequence\n",
        "$$total = n(n+1)/2$$"
      ]
    },
    {
      "cell_type": "markdown",
      "metadata": {
        "id": "UHZB9xJwKWGY"
      },
      "source": [
        ""
      ]
    },
    {
      "cell_type": "code",
      "metadata": {
        "colab": {
          "base_uri": "https://localhost:8080/"
        },
        "id": "fCddbmkmF9HT",
        "outputId": "28839282-bd8a-488c-c90b-983b6478dc43"
      },
      "source": [
        "\n",
        "n = int(input(\"Put the number you want to put on the summatory. Larger than 0  \"))\n",
        "x = (n*(n+1))/2\n",
        "print(f\"The total of numbers added is {x}\")"
      ],
      "execution_count": 1,
      "outputs": [
        {
          "output_type": "stream",
          "text": [
            "Put the number you want to put on the summatory. Larger than 08\n",
            "The total of numbers added is 36.0\n"
          ],
          "name": "stdout"
        }
      ]
    },
    {
      "cell_type": "markdown",
      "metadata": {
        "id": "6jipeOj5KZmu"
      },
      "source": [
        "##### Write a program that calculates the value of y when the user enters a integer x\n"
      ]
    },
    {
      "cell_type": "code",
      "metadata": {
        "colab": {
          "base_uri": "https://localhost:8080/"
        },
        "id": "yyMul0buI91V",
        "outputId": "8c4676c6-6382-4737-bd14-7db271d5a441"
      },
      "source": [
        "\n",
        "x = int(input(\"Put the number you want to use on the equation.  \"))\n",
        "y = 2 * (x + 3) - 3\n",
        "print(f\"The result of the equation with your integer is {y}\")"
      ],
      "execution_count": 2,
      "outputs": [
        {
          "output_type": "stream",
          "text": [
            "Put the number you want to use on the equation.  5\n",
            "The result of the equation with your integer is 13\n"
          ],
          "name": "stdout"
        }
      ]
    },
    {
      "cell_type": "markdown",
      "metadata": {
        "id": "9qlYZ-PdKgiz"
      },
      "source": [
        "##### Write a program that asks the user for his name and grade and outputs the user’s email address at UWC Isak\n",
        "\n"
      ]
    },
    {
      "cell_type": "code",
      "metadata": {
        "colab": {
          "base_uri": "https://localhost:8080/"
        },
        "id": "-8EOr3_iKQsE",
        "outputId": "a43ee153-9b2d-4bcb-93e4-2020c0a82b19"
      },
      "source": [
        "grade = int(input(\"What year are you on? (10, 11 or 12?)\"))\n",
        "if grade == 10:\n",
        "  year = 2024\n",
        "elif grade == 11:\n",
        "  year = 2023\n",
        "elif grade == 12:\n",
        "  year = 2022\n",
        "else:\n",
        "  print(\"Hey, something went wrong. Try it again with 10, 11 or 12\")\n",
        "name = str(input(\"What's your name?\"))\n",
        "lastname = str(input(\"What's your lastname\"))\n",
        "\n",
        "print(f\"Your email must be {year}.{name}.{lastname}@uwcisak.jp\")\n",
        "\n"
      ],
      "execution_count": 1,
      "outputs": [
        {
          "output_type": "stream",
          "text": [
            "What year are you on? (10, 11 or 12?)11\n",
            "What's your name?paolo\n",
            "What's your lastnamediaz\n",
            "2023.paolo.diaz@uwcisak.jp\n"
          ],
          "name": "stdout"
        }
      ]
    },
    {
      "cell_type": "markdown",
      "metadata": {
        "id": "B5ZAAi_DMSe7"
      },
      "source": [
        "##### Write a program that converts a temperature from Fahrenheit to Celsius. "
      ]
    },
    {
      "cell_type": "code",
      "metadata": {
        "id": "go88JmV8MV29"
      },
      "source": [
        "farenheit = int(input(\"What temperature in Farenheit do you want to convert to Celsius?\")\n",
        "celsius = (5 * (farenheit - 32))/9\n",
        "print(f\"{farenheit} degrees Farenheit are {celsius} degrees Celsius\")"
      ],
      "execution_count": null,
      "outputs": []
    }
  ]
}