{
  "nbformat": 4,
  "nbformat_minor": 0,
  "metadata": {
    "colab": {
      "name": "Comp Sci.ipynb",
      "provenance": [],
      "authorship_tag": "ABX9TyM8sJPV+Oe2zpIlvLBfaw0F",
      "include_colab_link": true
    },
    "kernelspec": {
      "name": "python3",
      "display_name": "Python 3"
    },
    "language_info": {
      "name": "python"
    }
  },
  "cells": [
    {
      "cell_type": "markdown",
      "metadata": {
        "id": "view-in-github",
        "colab_type": "text"
      },
      "source": [
        "<a href=\"https://colab.research.google.com/github/paolo451/Unit-1/blob/main/Comp_Sci.ipynb\" target=\"_parent\"><img src=\"https://colab.research.google.com/assets/colab-badge.svg\" alt=\"Open In Colab\"/></a>"
      ]
    },
    {
      "cell_type": "markdown",
      "metadata": {
        "id": "voCwTzOCGC6q"
      },
      "source": [
        "#Programming Practice #01\n",
        "##### ① Calculate adition of all integers up to n using the arithmetic sequence\n",
        "$$total = n(n+1)/2$$"
      ]
    },
    {
      "cell_type": "code",
      "metadata": {
        "colab": {
          "base_uri": "https://localhost:8080/"
        },
        "id": "fCddbmkmF9HT",
        "outputId": "28839282-bd8a-488c-c90b-983b6478dc43"
      },
      "source": [
        "\n",
        "n = int(input(\"Put the number you want to put on the summatory. Larger than 0  \"))\n",
        "x = (n*(n+1))/2\n",
        "print(f\"The total of numbers added is {x}\")"
      ],
      "execution_count": null,
      "outputs": [
        {
          "output_type": "stream",
          "text": [
            "Put the number you want to put on the summatory. Larger than 08\n",
            "The total of numbers added is 36.0\n"
          ],
          "name": "stdout"
        }
      ]
    },
    {
      "cell_type": "markdown",
      "metadata": {
        "id": "6jipeOj5KZmu"
      },
      "source": [
        "##### ② Write a program that calculates the value of y when the user enters a integer x\n"
      ]
    },
    {
      "cell_type": "code",
      "metadata": {
        "colab": {
          "base_uri": "https://localhost:8080/"
        },
        "id": "yyMul0buI91V",
        "outputId": "8c4676c6-6382-4737-bd14-7db271d5a441"
      },
      "source": [
        "\n",
        "x = int(input(\"Put the number you want to use on the equation.  \"))\n",
        "y = 2 * (x + 3) - 3\n",
        "print(f\"The result of the equation with your integer is {y}\")"
      ],
      "execution_count": null,
      "outputs": [
        {
          "output_type": "stream",
          "text": [
            "Put the number you want to use on the equation.  5\n",
            "The result of the equation with your integer is 13\n"
          ],
          "name": "stdout"
        }
      ]
    },
    {
      "cell_type": "markdown",
      "metadata": {
        "id": "9qlYZ-PdKgiz"
      },
      "source": [
        "##### ③ Write a program that asks the user for his name and grade and outputs the user’s email address at UWC Isak\n",
        "\n"
      ]
    },
    {
      "cell_type": "code",
      "metadata": {
        "colab": {
          "base_uri": "https://localhost:8080/"
        },
        "id": "-8EOr3_iKQsE",
        "outputId": "a43ee153-9b2d-4bcb-93e4-2020c0a82b19"
      },
      "source": [
        "grade = int(input(\"What year are you on? (10, 11 or 12?)\"))\n",
        "if grade == 10:\n",
        "  year = 2024\n",
        "elif grade == 11:\n",
        "  year = 2023\n",
        "elif grade == 12:\n",
        "  year = 2022\n",
        "else:\n",
        "  print(\"Hey, something went wrong. Try it again with 10, 11 or 12\")\n",
        "name = str(input(\"What's your name?\"))\n",
        "lastname = str(input(\"What's your lastname\"))\n",
        "\n",
        "print(f\"Your email must be {year}.{name}.{lastname}@uwcisak.jp\")\n",
        "\n"
      ],
      "execution_count": null,
      "outputs": [
        {
          "output_type": "stream",
          "text": [
            "What year are you on? (10, 11 or 12?)11\n",
            "What's your name?paolo\n",
            "What's your lastnamediaz\n",
            "2023.paolo.diaz@uwcisak.jp\n"
          ],
          "name": "stdout"
        }
      ]
    },
    {
      "cell_type": "markdown",
      "metadata": {
        "id": "B5ZAAi_DMSe7"
      },
      "source": [
        "##### ④ Write a program that converts a temperature from Fahrenheit to Celsius. "
      ]
    },
    {
      "cell_type": "code",
      "metadata": {
        "colab": {
          "base_uri": "https://localhost:8080/"
        },
        "id": "go88JmV8MV29",
        "outputId": "f32a71ef-af27-4d73-aa74-95f09c1065f4"
      },
      "source": [
        "farenheit = int(input(\"What temperature in Farenheit do you want to convert to Celsius?\"))\n",
        "celsius = (5 * (farenheit - 32))/9\n",
        "print(f\"{farenheit} degrees Farenheit are {celsius} degrees Celsius\")"
      ],
      "execution_count": null,
      "outputs": [
        {
          "output_type": "stream",
          "text": [
            "What temperature in Farenheit do you want to convert to Celsius?78\n",
            "78 degrees Farenheit are 25.555555555555557 degrees Celsius\n"
          ],
          "name": "stdout"
        }
      ]
    },
    {
      "cell_type": "markdown",
      "metadata": {
        "id": "plEubjJkLJfe"
      },
      "source": [
        "##### ④ Write a program that converts from Miles to Kilometers.\n"
      ]
    },
    {
      "cell_type": "code",
      "metadata": {
        "colab": {
          "base_uri": "https://localhost:8080/"
        },
        "id": "pEccrWZNLm2L",
        "outputId": "bce003d4-d557-470f-d21c-890fd069c2e1"
      },
      "source": [
        "miles = int(input(\"Please write the number of miles you'd like to convert to kilometers \"))\n",
        "kilometers = miles * 1.60934\n",
        "print(f\"{miles} miles are {kilometers} kilometers.\")"
      ],
      "execution_count": 2,
      "outputs": [
        {
          "output_type": "stream",
          "text": [
            "Please write the number of miles you'd like to convert to kilometers 13\n",
            "13 miles are 20.92142 kilometers.\n"
          ],
          "name": "stdout"
        }
      ]
    },
    {
      "cell_type": "markdown",
      "metadata": {
        "id": "kG07PCz0MReY"
      },
      "source": [
        "⑥ Write a program that solves the Quadratic Equation for valid inputs a, b, c"
      ]
    },
    {
      "cell_type": "code",
      "metadata": {
        "colab": {
          "base_uri": "https://localhost:8080/"
        },
        "id": "8KCU_d-bMUbQ",
        "outputId": "ff6ec40c-1c96-4898-9310-d83cf8690dee"
      },
      "source": [
        "a = int(input(\"Given the classic formula of the Quadratic Equation (a*x^2   +   bx   +   c), input an [a] value\"))\n",
        "b = int(input(\"Now input a [b] value\"))\n",
        "c = int(input(\"Now input a [c] value\"))\n",
        "\n",
        "solution1 = (-b + (( (b) ** (2) - 4*a*c) ** (0.5) ))/(2*a)\n",
        "solution2 = (-b - (( (b) ** (2) - 4*a*c) ** (0.5) ))/(2*a)\n",
        "\n",
        "print(f\"The possible solutions for x are {solution1} y {solution2}.\")"
      ],
      "execution_count": null,
      "outputs": [
        {
          "output_type": "stream",
          "text": [
            "Given the classic formula of the Quadratic Equation (a*x^2   +   bx   +   c), input an [a] value5\n",
            "Now input a [b] value-15\n",
            "Now input a [c] value-50\n",
            "The possible solutions for x are 5.0 y -2.0.\n"
          ],
          "name": "stdout"
        }
      ]
    },
    {
      "cell_type": "markdown",
      "metadata": {
        "id": "HstIh5Z3W4ht"
      },
      "source": [
        "⑦ Write a program to reverse a number entered by the user。\n"
      ]
    },
    {
      "cell_type": "code",
      "metadata": {
        "colab": {
          "base_uri": "https://localhost:8080/"
        },
        "id": "6dOOYXmgW4Pp",
        "outputId": "7ff0d590-8bdb-4517-ed29-5e2ecc065458"
      },
      "source": [
        "original_n = int(input(\"Write a number you'd like to reverse (123 to 321)\"))\n",
        "\n",
        "reverse = 0\n",
        "\n",
        "while original_n > 0:\n",
        "  ultimo_d = original_n % 10 #This divides the number by 10, and returns the residue, which is are the units (last digit). This is saved in the variable last\n",
        "  \n",
        "  original_n = original_n // 10 #This takes the number we just divided and saves it without that last digit by dividing it by 10 and eliminating any decimal. \n",
        "                              # This helps because when it's too small it'll break the loop\n",
        "  \n",
        "  reverse = (reverse * 10) + ultimo_d #This creates the new reversed number. \n",
        "                                        #It adds the number we just created, and if it had a value before, it moves it all one place to the left by multiplying it by 10\n",
        "print(reverse)\n",
        "\n"
      ],
      "execution_count": 1,
      "outputs": [
        {
          "output_type": "stream",
          "text": [
            "Write a number you'd like to reverse (123 to 321)896\n",
            "698\n"
          ],
          "name": "stdout"
        }
      ]
    },
    {
      "cell_type": "markdown",
      "metadata": {
        "id": "z6T5KnfBfwuB"
      },
      "source": [
        "⑧ Write a program that asks the user for their name, age, nationality and produces a greeting message such as “Welcome John Doe you are 30 years old and a national of Colombia”\n",
        "\n"
      ]
    },
    {
      "cell_type": "code",
      "metadata": {
        "colab": {
          "base_uri": "https://localhost:8080/"
        },
        "id": "QmZ5KySQf2-2",
        "outputId": "7c82ebe8-47f2-495e-a3b4-d92b0f75abde"
      },
      "source": [
        "name = str(input(\"Hello! I'm Greetings-bot. What's your name?\"))\n",
        "age = int(input(\"How old are you?\"))\n",
        "nation = str(input(\"What country are you from?\"))\n",
        "\n",
        "print(f\"Hey there, {name}! It's a pleasure having you here. You're {age} years old and come from {nation}\")"
      ],
      "execution_count": 1,
      "outputs": [
        {
          "output_type": "stream",
          "text": [
            "Hello! I'm Greetings-bot. What's your name?Paolo\n",
            "How old are you?17\n",
            "What country are you from?Perú\n",
            "Hey there, Paolo! It's a pleasure having you here. You're 17 years old and come from Perú\n"
          ],
          "name": "stdout"
        }
      ]
    },
    {
      "cell_type": "markdown",
      "metadata": {
        "id": "0bG1Q101gfhw"
      },
      "source": [
        "⑨ Create one more program that converts between different units."
      ]
    },
    {
      "cell_type": "code",
      "metadata": {
        "colab": {
          "base_uri": "https://localhost:8080/"
        },
        "id": "45fYQspVggin",
        "outputId": "b52c0d4d-1420-4323-9022-315bd4fe6b71"
      },
      "source": [
        "light_ns = int(input(\"Hey! Light nano-seconds represent the distance a photon could travel in one billionth of a second. \\n This is a tool to convert them into centimeters! Input a number of them, please.\"))\n",
        "cm = light_ns*29.9792\n",
        "print(f\"{light_ns} light nano-seconds are a total of {cm} centimeters\")"
      ],
      "execution_count": 2,
      "outputs": [
        {
          "output_type": "stream",
          "text": [
            "Hey! Light nano-seconds are the distance which a photon could travel in one billionth of a second. \n",
            " This is a tool to convert them into centimeters! Input a number of them, please.78\n",
            "78 light nano-seconds are a total of 2338.3776 centimeters\n"
          ],
          "name": "stdout"
        }
      ]
    }
  ]
}